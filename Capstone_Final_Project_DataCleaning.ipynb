{
 "cells": [
  {
   "cell_type": "code",
   "execution_count": 1,
   "id": "bc5ece7c",
   "metadata": {},
   "outputs": [],
   "source": [
    "#Package Imports\n",
    "import pandas as pd\n",
    "import numpy as np\n",
    "import matplotlib.pyplot as plt\n",
    "import seaborn as sns"
   ]
  },
  {
   "cell_type": "markdown",
   "id": "c8e14a3e",
   "metadata": {},
   "source": [
    "### Link to dataset\n",
    "\n",
    "https://www.kaggle.com/datasets/osmi/mental-health-in-tech-survey"
   ]
  },
  {
   "cell_type": "code",
   "execution_count": 2,
   "id": "a6dce92a",
   "metadata": {},
   "outputs": [],
   "source": [
    "#import survey dataset\n",
    "mhtech = pd.read_csv('survey.csv')\n",
    "#drop timestamp, comments, and state as we arent interested in these columns at this time\n",
    "mhtech.drop(['Timestamp', 'comments', 'state'] , axis = 1, inplace = True)"
   ]
  },
  {
   "cell_type": "code",
   "execution_count": 3,
   "id": "5433f9d6",
   "metadata": {},
   "outputs": [
    {
     "name": "stdout",
     "output_type": "stream",
     "text": [
      "<class 'pandas.core.frame.DataFrame'>\n",
      "RangeIndex: 1259 entries, 0 to 1258\n",
      "Data columns (total 24 columns):\n",
      " #   Column                     Non-Null Count  Dtype \n",
      "---  ------                     --------------  ----- \n",
      " 0   Age                        1259 non-null   int64 \n",
      " 1   Gender                     1259 non-null   object\n",
      " 2   Country                    1259 non-null   object\n",
      " 3   self_employed              1241 non-null   object\n",
      " 4   family_history             1259 non-null   object\n",
      " 5   treatment                  1259 non-null   object\n",
      " 6   work_interfere             995 non-null    object\n",
      " 7   no_employees               1259 non-null   object\n",
      " 8   remote_work                1259 non-null   object\n",
      " 9   tech_company               1259 non-null   object\n",
      " 10  benefits                   1259 non-null   object\n",
      " 11  care_options               1259 non-null   object\n",
      " 12  wellness_program           1259 non-null   object\n",
      " 13  seek_help                  1259 non-null   object\n",
      " 14  anonymity                  1259 non-null   object\n",
      " 15  leave                      1259 non-null   object\n",
      " 16  mental_health_consequence  1259 non-null   object\n",
      " 17  phys_health_consequence    1259 non-null   object\n",
      " 18  coworkers                  1259 non-null   object\n",
      " 19  supervisor                 1259 non-null   object\n",
      " 20  mental_health_interview    1259 non-null   object\n",
      " 21  phys_health_interview      1259 non-null   object\n",
      " 22  mental_vs_physical         1259 non-null   object\n",
      " 23  obs_consequence            1259 non-null   object\n",
      "dtypes: int64(1), object(23)\n",
      "memory usage: 236.2+ KB\n"
     ]
    }
   ],
   "source": [
    "#check for missing value and general info\n",
    "mhtech.info()"
   ]
  },
  {
   "cell_type": "code",
   "execution_count": 9,
   "id": "2bb80a89",
   "metadata": {},
   "outputs": [
    {
     "data": {
      "text/html": [
       "<div>\n",
       "<style scoped>\n",
       "    .dataframe tbody tr th:only-of-type {\n",
       "        vertical-align: middle;\n",
       "    }\n",
       "\n",
       "    .dataframe tbody tr th {\n",
       "        vertical-align: top;\n",
       "    }\n",
       "\n",
       "    .dataframe thead th {\n",
       "        text-align: right;\n",
       "    }\n",
       "</style>\n",
       "<table border=\"1\" class=\"dataframe\">\n",
       "  <thead>\n",
       "    <tr style=\"text-align: right;\">\n",
       "      <th></th>\n",
       "      <th>Age</th>\n",
       "      <th>Gender</th>\n",
       "      <th>Country</th>\n",
       "      <th>self_employed</th>\n",
       "      <th>family_history</th>\n",
       "      <th>treatment</th>\n",
       "      <th>work_interfere</th>\n",
       "      <th>no_employees</th>\n",
       "      <th>remote_work</th>\n",
       "      <th>tech_company</th>\n",
       "      <th>...</th>\n",
       "      <th>anonymity</th>\n",
       "      <th>leave</th>\n",
       "      <th>mental_health_consequence</th>\n",
       "      <th>phys_health_consequence</th>\n",
       "      <th>coworkers</th>\n",
       "      <th>supervisor</th>\n",
       "      <th>mental_health_interview</th>\n",
       "      <th>phys_health_interview</th>\n",
       "      <th>mental_vs_physical</th>\n",
       "      <th>obs_consequence</th>\n",
       "    </tr>\n",
       "  </thead>\n",
       "  <tbody>\n",
       "    <tr>\n",
       "      <th>count</th>\n",
       "      <td>1.259000e+03</td>\n",
       "      <td>1259</td>\n",
       "      <td>1259</td>\n",
       "      <td>1241</td>\n",
       "      <td>1259</td>\n",
       "      <td>1259</td>\n",
       "      <td>995</td>\n",
       "      <td>1259</td>\n",
       "      <td>1259</td>\n",
       "      <td>1259</td>\n",
       "      <td>...</td>\n",
       "      <td>1259</td>\n",
       "      <td>1259</td>\n",
       "      <td>1259</td>\n",
       "      <td>1259</td>\n",
       "      <td>1259</td>\n",
       "      <td>1259</td>\n",
       "      <td>1259</td>\n",
       "      <td>1259</td>\n",
       "      <td>1259</td>\n",
       "      <td>1259</td>\n",
       "    </tr>\n",
       "    <tr>\n",
       "      <th>unique</th>\n",
       "      <td>NaN</td>\n",
       "      <td>49</td>\n",
       "      <td>48</td>\n",
       "      <td>2</td>\n",
       "      <td>2</td>\n",
       "      <td>2</td>\n",
       "      <td>4</td>\n",
       "      <td>6</td>\n",
       "      <td>2</td>\n",
       "      <td>2</td>\n",
       "      <td>...</td>\n",
       "      <td>3</td>\n",
       "      <td>5</td>\n",
       "      <td>3</td>\n",
       "      <td>3</td>\n",
       "      <td>3</td>\n",
       "      <td>3</td>\n",
       "      <td>3</td>\n",
       "      <td>3</td>\n",
       "      <td>3</td>\n",
       "      <td>2</td>\n",
       "    </tr>\n",
       "    <tr>\n",
       "      <th>top</th>\n",
       "      <td>NaN</td>\n",
       "      <td>Male</td>\n",
       "      <td>United States</td>\n",
       "      <td>No</td>\n",
       "      <td>No</td>\n",
       "      <td>Yes</td>\n",
       "      <td>Sometimes</td>\n",
       "      <td>6-25</td>\n",
       "      <td>No</td>\n",
       "      <td>Yes</td>\n",
       "      <td>...</td>\n",
       "      <td>Don't know</td>\n",
       "      <td>Don't know</td>\n",
       "      <td>No</td>\n",
       "      <td>No</td>\n",
       "      <td>Some of them</td>\n",
       "      <td>Yes</td>\n",
       "      <td>No</td>\n",
       "      <td>Maybe</td>\n",
       "      <td>Don't know</td>\n",
       "      <td>No</td>\n",
       "    </tr>\n",
       "    <tr>\n",
       "      <th>freq</th>\n",
       "      <td>NaN</td>\n",
       "      <td>615</td>\n",
       "      <td>751</td>\n",
       "      <td>1095</td>\n",
       "      <td>767</td>\n",
       "      <td>637</td>\n",
       "      <td>465</td>\n",
       "      <td>290</td>\n",
       "      <td>883</td>\n",
       "      <td>1031</td>\n",
       "      <td>...</td>\n",
       "      <td>819</td>\n",
       "      <td>563</td>\n",
       "      <td>490</td>\n",
       "      <td>925</td>\n",
       "      <td>774</td>\n",
       "      <td>516</td>\n",
       "      <td>1008</td>\n",
       "      <td>557</td>\n",
       "      <td>576</td>\n",
       "      <td>1075</td>\n",
       "    </tr>\n",
       "    <tr>\n",
       "      <th>mean</th>\n",
       "      <td>7.942815e+07</td>\n",
       "      <td>NaN</td>\n",
       "      <td>NaN</td>\n",
       "      <td>NaN</td>\n",
       "      <td>NaN</td>\n",
       "      <td>NaN</td>\n",
       "      <td>NaN</td>\n",
       "      <td>NaN</td>\n",
       "      <td>NaN</td>\n",
       "      <td>NaN</td>\n",
       "      <td>...</td>\n",
       "      <td>NaN</td>\n",
       "      <td>NaN</td>\n",
       "      <td>NaN</td>\n",
       "      <td>NaN</td>\n",
       "      <td>NaN</td>\n",
       "      <td>NaN</td>\n",
       "      <td>NaN</td>\n",
       "      <td>NaN</td>\n",
       "      <td>NaN</td>\n",
       "      <td>NaN</td>\n",
       "    </tr>\n",
       "    <tr>\n",
       "      <th>std</th>\n",
       "      <td>2.818299e+09</td>\n",
       "      <td>NaN</td>\n",
       "      <td>NaN</td>\n",
       "      <td>NaN</td>\n",
       "      <td>NaN</td>\n",
       "      <td>NaN</td>\n",
       "      <td>NaN</td>\n",
       "      <td>NaN</td>\n",
       "      <td>NaN</td>\n",
       "      <td>NaN</td>\n",
       "      <td>...</td>\n",
       "      <td>NaN</td>\n",
       "      <td>NaN</td>\n",
       "      <td>NaN</td>\n",
       "      <td>NaN</td>\n",
       "      <td>NaN</td>\n",
       "      <td>NaN</td>\n",
       "      <td>NaN</td>\n",
       "      <td>NaN</td>\n",
       "      <td>NaN</td>\n",
       "      <td>NaN</td>\n",
       "    </tr>\n",
       "    <tr>\n",
       "      <th>min</th>\n",
       "      <td>-1.726000e+03</td>\n",
       "      <td>NaN</td>\n",
       "      <td>NaN</td>\n",
       "      <td>NaN</td>\n",
       "      <td>NaN</td>\n",
       "      <td>NaN</td>\n",
       "      <td>NaN</td>\n",
       "      <td>NaN</td>\n",
       "      <td>NaN</td>\n",
       "      <td>NaN</td>\n",
       "      <td>...</td>\n",
       "      <td>NaN</td>\n",
       "      <td>NaN</td>\n",
       "      <td>NaN</td>\n",
       "      <td>NaN</td>\n",
       "      <td>NaN</td>\n",
       "      <td>NaN</td>\n",
       "      <td>NaN</td>\n",
       "      <td>NaN</td>\n",
       "      <td>NaN</td>\n",
       "      <td>NaN</td>\n",
       "    </tr>\n",
       "    <tr>\n",
       "      <th>25%</th>\n",
       "      <td>2.700000e+01</td>\n",
       "      <td>NaN</td>\n",
       "      <td>NaN</td>\n",
       "      <td>NaN</td>\n",
       "      <td>NaN</td>\n",
       "      <td>NaN</td>\n",
       "      <td>NaN</td>\n",
       "      <td>NaN</td>\n",
       "      <td>NaN</td>\n",
       "      <td>NaN</td>\n",
       "      <td>...</td>\n",
       "      <td>NaN</td>\n",
       "      <td>NaN</td>\n",
       "      <td>NaN</td>\n",
       "      <td>NaN</td>\n",
       "      <td>NaN</td>\n",
       "      <td>NaN</td>\n",
       "      <td>NaN</td>\n",
       "      <td>NaN</td>\n",
       "      <td>NaN</td>\n",
       "      <td>NaN</td>\n",
       "    </tr>\n",
       "    <tr>\n",
       "      <th>50%</th>\n",
       "      <td>3.100000e+01</td>\n",
       "      <td>NaN</td>\n",
       "      <td>NaN</td>\n",
       "      <td>NaN</td>\n",
       "      <td>NaN</td>\n",
       "      <td>NaN</td>\n",
       "      <td>NaN</td>\n",
       "      <td>NaN</td>\n",
       "      <td>NaN</td>\n",
       "      <td>NaN</td>\n",
       "      <td>...</td>\n",
       "      <td>NaN</td>\n",
       "      <td>NaN</td>\n",
       "      <td>NaN</td>\n",
       "      <td>NaN</td>\n",
       "      <td>NaN</td>\n",
       "      <td>NaN</td>\n",
       "      <td>NaN</td>\n",
       "      <td>NaN</td>\n",
       "      <td>NaN</td>\n",
       "      <td>NaN</td>\n",
       "    </tr>\n",
       "    <tr>\n",
       "      <th>75%</th>\n",
       "      <td>3.600000e+01</td>\n",
       "      <td>NaN</td>\n",
       "      <td>NaN</td>\n",
       "      <td>NaN</td>\n",
       "      <td>NaN</td>\n",
       "      <td>NaN</td>\n",
       "      <td>NaN</td>\n",
       "      <td>NaN</td>\n",
       "      <td>NaN</td>\n",
       "      <td>NaN</td>\n",
       "      <td>...</td>\n",
       "      <td>NaN</td>\n",
       "      <td>NaN</td>\n",
       "      <td>NaN</td>\n",
       "      <td>NaN</td>\n",
       "      <td>NaN</td>\n",
       "      <td>NaN</td>\n",
       "      <td>NaN</td>\n",
       "      <td>NaN</td>\n",
       "      <td>NaN</td>\n",
       "      <td>NaN</td>\n",
       "    </tr>\n",
       "    <tr>\n",
       "      <th>max</th>\n",
       "      <td>1.000000e+11</td>\n",
       "      <td>NaN</td>\n",
       "      <td>NaN</td>\n",
       "      <td>NaN</td>\n",
       "      <td>NaN</td>\n",
       "      <td>NaN</td>\n",
       "      <td>NaN</td>\n",
       "      <td>NaN</td>\n",
       "      <td>NaN</td>\n",
       "      <td>NaN</td>\n",
       "      <td>...</td>\n",
       "      <td>NaN</td>\n",
       "      <td>NaN</td>\n",
       "      <td>NaN</td>\n",
       "      <td>NaN</td>\n",
       "      <td>NaN</td>\n",
       "      <td>NaN</td>\n",
       "      <td>NaN</td>\n",
       "      <td>NaN</td>\n",
       "      <td>NaN</td>\n",
       "      <td>NaN</td>\n",
       "    </tr>\n",
       "  </tbody>\n",
       "</table>\n",
       "<p>11 rows × 24 columns</p>\n",
       "</div>"
      ],
      "text/plain": [
       "                 Age Gender        Country self_employed family_history  \\\n",
       "count   1.259000e+03   1259           1259          1241           1259   \n",
       "unique           NaN     49             48             2              2   \n",
       "top              NaN   Male  United States            No             No   \n",
       "freq             NaN    615            751          1095            767   \n",
       "mean    7.942815e+07    NaN            NaN           NaN            NaN   \n",
       "std     2.818299e+09    NaN            NaN           NaN            NaN   \n",
       "min    -1.726000e+03    NaN            NaN           NaN            NaN   \n",
       "25%     2.700000e+01    NaN            NaN           NaN            NaN   \n",
       "50%     3.100000e+01    NaN            NaN           NaN            NaN   \n",
       "75%     3.600000e+01    NaN            NaN           NaN            NaN   \n",
       "max     1.000000e+11    NaN            NaN           NaN            NaN   \n",
       "\n",
       "       treatment work_interfere no_employees remote_work tech_company  ...  \\\n",
       "count       1259            995         1259        1259         1259  ...   \n",
       "unique         2              4            6           2            2  ...   \n",
       "top          Yes      Sometimes         6-25          No          Yes  ...   \n",
       "freq         637            465          290         883         1031  ...   \n",
       "mean         NaN            NaN          NaN         NaN          NaN  ...   \n",
       "std          NaN            NaN          NaN         NaN          NaN  ...   \n",
       "min          NaN            NaN          NaN         NaN          NaN  ...   \n",
       "25%          NaN            NaN          NaN         NaN          NaN  ...   \n",
       "50%          NaN            NaN          NaN         NaN          NaN  ...   \n",
       "75%          NaN            NaN          NaN         NaN          NaN  ...   \n",
       "max          NaN            NaN          NaN         NaN          NaN  ...   \n",
       "\n",
       "         anonymity       leave mental_health_consequence  \\\n",
       "count         1259        1259                      1259   \n",
       "unique           3           5                         3   \n",
       "top     Don't know  Don't know                        No   \n",
       "freq           819         563                       490   \n",
       "mean           NaN         NaN                       NaN   \n",
       "std            NaN         NaN                       NaN   \n",
       "min            NaN         NaN                       NaN   \n",
       "25%            NaN         NaN                       NaN   \n",
       "50%            NaN         NaN                       NaN   \n",
       "75%            NaN         NaN                       NaN   \n",
       "max            NaN         NaN                       NaN   \n",
       "\n",
       "       phys_health_consequence     coworkers supervisor  \\\n",
       "count                     1259          1259       1259   \n",
       "unique                       3             3          3   \n",
       "top                         No  Some of them        Yes   \n",
       "freq                       925           774        516   \n",
       "mean                       NaN           NaN        NaN   \n",
       "std                        NaN           NaN        NaN   \n",
       "min                        NaN           NaN        NaN   \n",
       "25%                        NaN           NaN        NaN   \n",
       "50%                        NaN           NaN        NaN   \n",
       "75%                        NaN           NaN        NaN   \n",
       "max                        NaN           NaN        NaN   \n",
       "\n",
       "       mental_health_interview phys_health_interview mental_vs_physical  \\\n",
       "count                     1259                  1259               1259   \n",
       "unique                       3                     3                  3   \n",
       "top                         No                 Maybe         Don't know   \n",
       "freq                      1008                   557                576   \n",
       "mean                       NaN                   NaN                NaN   \n",
       "std                        NaN                   NaN                NaN   \n",
       "min                        NaN                   NaN                NaN   \n",
       "25%                        NaN                   NaN                NaN   \n",
       "50%                        NaN                   NaN                NaN   \n",
       "75%                        NaN                   NaN                NaN   \n",
       "max                        NaN                   NaN                NaN   \n",
       "\n",
       "       obs_consequence  \n",
       "count             1259  \n",
       "unique               2  \n",
       "top                 No  \n",
       "freq              1075  \n",
       "mean               NaN  \n",
       "std                NaN  \n",
       "min                NaN  \n",
       "25%                NaN  \n",
       "50%                NaN  \n",
       "75%                NaN  \n",
       "max                NaN  \n",
       "\n",
       "[11 rows x 24 columns]"
      ]
     },
     "execution_count": 9,
     "metadata": {},
     "output_type": "execute_result"
    }
   ],
   "source": [
    "#get a more detailed overview of our variables\n",
    "mhtech.describe(include = 'all')"
   ]
  },
  {
   "cell_type": "code",
   "execution_count": 13,
   "id": "fb3eb5f4",
   "metadata": {},
   "outputs": [
    {
     "name": "stdout",
     "output_type": "stream",
     "text": [
      "Age [         37          44          32          31          33          35\n",
      "          39          42          23          29          36          27\n",
      "          46          41          34          30          40          38\n",
      "          50          24          18          28          26          22\n",
      "          19          25          45          21         -29          43\n",
      "          56          60          54         329          55 99999999999\n",
      "          48          20          57          58          47          62\n",
      "          51          65          49       -1726           5          53\n",
      "          61           8          11          -1          72]\n",
      "Gender ['Female' 'M' 'Male' 'male' 'female' 'm' 'Male-ish' 'maile' 'Trans-female'\n",
      " 'Cis Female' 'F' 'something kinda male?' 'Cis Male' 'Woman' 'f' 'Mal'\n",
      " 'Male (CIS)' 'queer/she/they' 'non-binary' 'Femake' 'woman' 'Make' 'Nah'\n",
      " 'All' 'Enby' 'fluid' 'Genderqueer' 'Female ' 'Androgyne' 'Agender'\n",
      " 'cis-female/femme' 'Guy (-ish) ^_^' 'male leaning androgynous' 'Male '\n",
      " 'Man' 'Trans woman' 'msle' 'Neuter' 'Female (trans)' 'queer'\n",
      " 'Female (cis)' 'Mail' 'cis male' 'A little about you' 'Malr' 'p' 'femail'\n",
      " 'Cis Man' 'ostensibly male, unsure what that really means']\n",
      "Country ['United States' 'Canada' 'United Kingdom' 'Bulgaria' 'France' 'Portugal'\n",
      " 'Netherlands' 'Switzerland' 'Poland' 'Australia' 'Germany' 'Russia'\n",
      " 'Mexico' 'Brazil' 'Slovenia' 'Costa Rica' 'Austria' 'Ireland' 'India'\n",
      " 'South Africa' 'Italy' 'Sweden' 'Colombia' 'Latvia' 'Romania' 'Belgium'\n",
      " 'New Zealand' 'Zimbabwe' 'Spain' 'Finland' 'Uruguay' 'Israel'\n",
      " 'Bosnia and Herzegovina' 'Hungary' 'Singapore' 'Japan' 'Nigeria'\n",
      " 'Croatia' 'Norway' 'Thailand' 'Denmark' 'Bahamas, The' 'Greece' 'Moldova'\n",
      " 'Georgia' 'China' 'Czech Republic' 'Philippines']\n",
      "self_employed [nan 'Yes' 'No']\n",
      "family_history ['No' 'Yes']\n",
      "treatment ['Yes' 'No']\n",
      "work_interfere ['Often' 'Rarely' 'Never' 'Sometimes' nan]\n",
      "no_employees ['6-25' 'More than 1000' '26-100' '100-500' '1-5' '500-1000']\n",
      "remote_work ['No' 'Yes']\n",
      "tech_company ['Yes' 'No']\n",
      "benefits ['Yes' \"Don't know\" 'No']\n",
      "care_options ['Not sure' 'No' 'Yes']\n",
      "wellness_program ['No' \"Don't know\" 'Yes']\n",
      "seek_help ['Yes' \"Don't know\" 'No']\n",
      "anonymity ['Yes' \"Don't know\" 'No']\n",
      "leave ['Somewhat easy' \"Don't know\" 'Somewhat difficult' 'Very difficult'\n",
      " 'Very easy']\n",
      "mental_health_consequence ['No' 'Maybe' 'Yes']\n",
      "phys_health_consequence ['No' 'Yes' 'Maybe']\n",
      "coworkers ['Some of them' 'No' 'Yes']\n",
      "supervisor ['Yes' 'No' 'Some of them']\n",
      "mental_health_interview ['No' 'Yes' 'Maybe']\n",
      "phys_health_interview ['Maybe' 'No' 'Yes']\n",
      "mental_vs_physical ['Yes' \"Don't know\" 'No']\n",
      "obs_consequence ['No' 'Yes']\n"
     ]
    }
   ],
   "source": [
    "#I want a more detailed view of the values in our categorical columns\n",
    "for col in mhtech:\n",
    "    print(col, mhtech[col].unique())"
   ]
  },
  {
   "cell_type": "code",
   "execution_count": null,
   "id": "0dbae122",
   "metadata": {},
   "outputs": [],
   "source": [
    "#Overall most categorical columns seem fine but there are a few that need cleaning:\n",
    "#gender (narrow down value options)\n",
    "#self_employed (deal with nan values)\n",
    "#work_interfere (deal with nan values)"
   ]
  },
  {
   "cell_type": "code",
   "execution_count": 14,
   "id": "3237e87a",
   "metadata": {},
   "outputs": [
    {
     "data": {
      "text/plain": [
       "array(['Female', 'M', 'Male', 'male', 'female', 'm', 'Male-ish', 'maile',\n",
       "       'Trans-female', 'Cis Female', 'F', 'something kinda male?',\n",
       "       'Cis Male', 'Woman', 'f', 'Mal', 'Male (CIS)', 'queer/she/they',\n",
       "       'non-binary', 'Femake', 'woman', 'Make', 'Nah', 'All', 'Enby',\n",
       "       'fluid', 'Genderqueer', 'Female ', 'Androgyne', 'Agender',\n",
       "       'cis-female/femme', 'Guy (-ish) ^_^', 'male leaning androgynous',\n",
       "       'Male ', 'Man', 'Trans woman', 'msle', 'Neuter', 'Female (trans)',\n",
       "       'queer', 'Female (cis)', 'Mail', 'cis male', 'A little about you',\n",
       "       'Malr', 'p', 'femail', 'Cis Man',\n",
       "       'ostensibly male, unsure what that really means'], dtype=object)"
      ]
     },
     "execution_count": 14,
     "metadata": {},
     "output_type": "execute_result"
    }
   ],
   "source": [
    "#gender seems to have alot of values, we can clean that up\n",
    "#first to take a closer look\n",
    "mhtech.Gender.unique()"
   ]
  },
  {
   "cell_type": "code",
   "execution_count": 15,
   "id": "f5bd942f",
   "metadata": {},
   "outputs": [
    {
     "data": {
      "text/plain": [
       "array(['Female', 'Male', 'Trans/NB', 'A little about you', 'P'],\n",
       "      dtype=object)"
      ]
     },
     "execution_count": 15,
     "metadata": {},
     "output_type": "execute_result"
    }
   ],
   "source": [
    "#group gender into male, female, nonbinary or queer\n",
    "\n",
    "#first capitalize all strings to reduce the number of unique values\n",
    "mhtech.Gender = mhtech.Gender.str.capitalize()\n",
    "\n",
    "#next replace female mispellings to be 'female'\n",
    "\n",
    "mhtech.Gender.replace({'Cis female', 'F', 'Woman', 'Femake', 'Female ', 'Cis-female/femme', 'Female (cis)', 'Femail'}, 'Female', inplace = True)\n",
    "\n",
    "#replace male mispellings to be 'male'\n",
    "\n",
    "mhtech.Gender.replace({'M', 'Maile', 'Cis male', 'Mal', 'Male (cis)', 'Make', 'Male ', 'Man', 'Msle', 'Mail', 'Malr', 'Cis man'}, 'Male', inplace = True)\n",
    "\n",
    "#replace queer identities with a single signifier\n",
    "mhtech.Gender.replace({'Trans-female', 'Female (trans)', 'Trans woman', 'Male-ish', 'Something kinda male?', 'Queer/she/they', 'Non-binary', 'All', 'Enby', 'Fluid', 'Genderqueer', 'Androgyne', 'Agender', 'Guy (-ish) ^_^', 'Male leaning androgynous', 'Neuter', 'Queer', 'Ostensibly male, unsure what that really means', 'Nah'}, 'Trans/NB', inplace = True)\n",
    "\n",
    "#check unique values\n",
    "mhtech.Gender.unique()"
   ]
  },
  {
   "cell_type": "code",
   "execution_count": 16,
   "id": "8bc4d836",
   "metadata": {},
   "outputs": [
    {
     "data": {
      "text/html": [
       "<div>\n",
       "<style scoped>\n",
       "    .dataframe tbody tr th:only-of-type {\n",
       "        vertical-align: middle;\n",
       "    }\n",
       "\n",
       "    .dataframe tbody tr th {\n",
       "        vertical-align: top;\n",
       "    }\n",
       "\n",
       "    .dataframe thead th {\n",
       "        text-align: right;\n",
       "    }\n",
       "</style>\n",
       "<table border=\"1\" class=\"dataframe\">\n",
       "  <thead>\n",
       "    <tr style=\"text-align: right;\">\n",
       "      <th></th>\n",
       "      <th>Age</th>\n",
       "      <th>Gender</th>\n",
       "      <th>Country</th>\n",
       "      <th>self_employed</th>\n",
       "      <th>family_history</th>\n",
       "      <th>treatment</th>\n",
       "      <th>work_interfere</th>\n",
       "      <th>no_employees</th>\n",
       "      <th>remote_work</th>\n",
       "      <th>tech_company</th>\n",
       "      <th>...</th>\n",
       "      <th>anonymity</th>\n",
       "      <th>leave</th>\n",
       "      <th>mental_health_consequence</th>\n",
       "      <th>phys_health_consequence</th>\n",
       "      <th>coworkers</th>\n",
       "      <th>supervisor</th>\n",
       "      <th>mental_health_interview</th>\n",
       "      <th>phys_health_interview</th>\n",
       "      <th>mental_vs_physical</th>\n",
       "      <th>obs_consequence</th>\n",
       "    </tr>\n",
       "  </thead>\n",
       "  <tbody>\n",
       "    <tr>\n",
       "      <th>989</th>\n",
       "      <td>8</td>\n",
       "      <td>A little about you</td>\n",
       "      <td>Bahamas, The</td>\n",
       "      <td>Yes</td>\n",
       "      <td>Yes</td>\n",
       "      <td>Yes</td>\n",
       "      <td>Often</td>\n",
       "      <td>1-5</td>\n",
       "      <td>Yes</td>\n",
       "      <td>Yes</td>\n",
       "      <td>...</td>\n",
       "      <td>Yes</td>\n",
       "      <td>Very easy</td>\n",
       "      <td>Yes</td>\n",
       "      <td>Yes</td>\n",
       "      <td>Yes</td>\n",
       "      <td>Yes</td>\n",
       "      <td>Yes</td>\n",
       "      <td>Yes</td>\n",
       "      <td>Yes</td>\n",
       "      <td>Yes</td>\n",
       "    </tr>\n",
       "    <tr>\n",
       "      <th>1127</th>\n",
       "      <td>-1</td>\n",
       "      <td>P</td>\n",
       "      <td>United States</td>\n",
       "      <td>Yes</td>\n",
       "      <td>Yes</td>\n",
       "      <td>Yes</td>\n",
       "      <td>Often</td>\n",
       "      <td>1-5</td>\n",
       "      <td>Yes</td>\n",
       "      <td>Yes</td>\n",
       "      <td>...</td>\n",
       "      <td>Yes</td>\n",
       "      <td>Very easy</td>\n",
       "      <td>Yes</td>\n",
       "      <td>Yes</td>\n",
       "      <td>Yes</td>\n",
       "      <td>Yes</td>\n",
       "      <td>Yes</td>\n",
       "      <td>Yes</td>\n",
       "      <td>Yes</td>\n",
       "      <td>Yes</td>\n",
       "    </tr>\n",
       "  </tbody>\n",
       "</table>\n",
       "<p>2 rows × 24 columns</p>\n",
       "</div>"
      ],
      "text/plain": [
       "      Age              Gender        Country self_employed family_history  \\\n",
       "989     8  A little about you   Bahamas, The           Yes            Yes   \n",
       "1127   -1                   P  United States           Yes            Yes   \n",
       "\n",
       "     treatment work_interfere no_employees remote_work tech_company  ...  \\\n",
       "989        Yes          Often          1-5         Yes          Yes  ...   \n",
       "1127       Yes          Often          1-5         Yes          Yes  ...   \n",
       "\n",
       "     anonymity      leave mental_health_consequence phys_health_consequence  \\\n",
       "989        Yes  Very easy                       Yes                     Yes   \n",
       "1127       Yes  Very easy                       Yes                     Yes   \n",
       "\n",
       "     coworkers supervisor mental_health_interview phys_health_interview  \\\n",
       "989        Yes        Yes                     Yes                   Yes   \n",
       "1127       Yes        Yes                     Yes                   Yes   \n",
       "\n",
       "     mental_vs_physical obs_consequence  \n",
       "989                 Yes             Yes  \n",
       "1127                Yes             Yes  \n",
       "\n",
       "[2 rows x 24 columns]"
      ]
     },
     "execution_count": 16,
     "metadata": {},
     "output_type": "execute_result"
    }
   ],
   "source": [
    "#Check remaining gender outliers\n",
    "mhtech[mhtech['Gender'].isin(['A little about you','Nah','P'])]"
   ]
  },
  {
   "cell_type": "code",
   "execution_count": 17,
   "id": "dd03548a",
   "metadata": {},
   "outputs": [
    {
     "data": {
      "text/plain": [
       "array(['Female', 'Male', 'Trans/NB'], dtype=object)"
      ]
     },
     "execution_count": 17,
     "metadata": {},
     "output_type": "execute_result"
    }
   ],
   "source": [
    "#remaining inputs in gender column seem to have been inputed in bad faith, low ages, one listed as from the bahamas but also IL\n",
    "#also strange comments in one. \n",
    "#I will drop these rows as i dont feel they hold any useful information\n",
    "\n",
    "mhtech = mhtech[mhtech.Gender != 'P']\n",
    "mhtech = mhtech[mhtech.Gender != 'A little about you']\n",
    "\n",
    "#re-check unique values\n",
    "mhtech.Gender.unique()"
   ]
  },
  {
   "cell_type": "code",
   "execution_count": 18,
   "id": "e36cf620",
   "metadata": {},
   "outputs": [
    {
     "data": {
      "text/plain": [
       "count    1.257000e+03\n",
       "mean     7.955453e+07\n",
       "std      2.820541e+09\n",
       "min     -1.726000e+03\n",
       "25%      2.700000e+01\n",
       "50%      3.100000e+01\n",
       "75%      3.600000e+01\n",
       "max      1.000000e+11\n",
       "Name: Age, dtype: float64"
      ]
     },
     "execution_count": 18,
     "metadata": {},
     "output_type": "execute_result"
    }
   ],
   "source": [
    "#age column also needs cleaning\n",
    "mhtech.Age.describe()\n",
    "#the mean is impossibly high, the max and min given are also impossible for an age variable"
   ]
  },
  {
   "cell_type": "code",
   "execution_count": 25,
   "id": "45e5b2d6",
   "metadata": {},
   "outputs": [
    {
     "data": {
      "text/plain": [
       "array([         37,          44,          32,          31,          33,\n",
       "                35,          39,          42,          23,          29,\n",
       "                36,          27,          46,          41,          34,\n",
       "                30,          40,          38,          50,          24,\n",
       "                18,          28,          26,          22,          19,\n",
       "                25,          45,          21,          43,          56,\n",
       "                60,          54,         329,          55, 99999999999,\n",
       "                48,          20,          57,          58,          47,\n",
       "                62,          51,          65,          49,        1726,\n",
       "                 5,          53,          61,          11,          72],\n",
       "      dtype=int64)"
      ]
     },
     "execution_count": 25,
     "metadata": {},
     "output_type": "execute_result"
    }
   ],
   "source": [
    "#view unique age values\n",
    "mhtech.Age.unique()"
   ]
  },
  {
   "cell_type": "code",
   "execution_count": 26,
   "id": "132e0281",
   "metadata": {},
   "outputs": [
    {
     "data": {
      "text/plain": [
       "array([37, 44, 32, 31, 33, 35, 39, 42, 23, 29, 36, 27, 46, 41, 34, 30, 40,\n",
       "       38, 50, 24, 28, 26, 22, 19, 25, 45, 21, 43, 56, 60, 54, 55, 48, 20,\n",
       "       57, 58, 47, 62, 51, 65, 49, 53, 61, 72], dtype=int64)"
      ]
     },
     "execution_count": 26,
     "metadata": {},
     "output_type": "execute_result"
    }
   ],
   "source": [
    "#first I want to get rid of negatives\n",
    "mhtech['Age'] = mhtech['Age'].abs()\n",
    "\n",
    "#then get rid of ages > 100\n",
    "mhtech = mhtech[mhtech.Age < 100]\n",
    "\n",
    "#and < 18\n",
    "mhtech = mhtech[mhtech.Age > 18]\n",
    "\n",
    "#check for unique values\n",
    "mhtech.Age.unique()"
   ]
  },
  {
   "cell_type": "code",
   "execution_count": 27,
   "id": "53341f09",
   "metadata": {},
   "outputs": [
    {
     "name": "stdout",
     "output_type": "stream",
     "text": [
      "<class 'pandas.core.frame.DataFrame'>\n",
      "Int64Index: 1245 entries, 0 to 1258\n",
      "Data columns (total 24 columns):\n",
      " #   Column                     Non-Null Count  Dtype \n",
      "---  ------                     --------------  ----- \n",
      " 0   Age                        1245 non-null   int64 \n",
      " 1   Gender                     1245 non-null   object\n",
      " 2   Country                    1245 non-null   object\n",
      " 3   self_employed              1227 non-null   object\n",
      " 4   family_history             1245 non-null   object\n",
      " 5   treatment                  1245 non-null   object\n",
      " 6   work_interfere             984 non-null    object\n",
      " 7   no_employees               1245 non-null   object\n",
      " 8   remote_work                1245 non-null   object\n",
      " 9   tech_company               1245 non-null   object\n",
      " 10  benefits                   1245 non-null   object\n",
      " 11  care_options               1245 non-null   object\n",
      " 12  wellness_program           1245 non-null   object\n",
      " 13  seek_help                  1245 non-null   object\n",
      " 14  anonymity                  1245 non-null   object\n",
      " 15  leave                      1245 non-null   object\n",
      " 16  mental_health_consequence  1245 non-null   object\n",
      " 17  phys_health_consequence    1245 non-null   object\n",
      " 18  coworkers                  1245 non-null   object\n",
      " 19  supervisor                 1245 non-null   object\n",
      " 20  mental_health_interview    1245 non-null   object\n",
      " 21  phys_health_interview      1245 non-null   object\n",
      " 22  mental_vs_physical         1245 non-null   object\n",
      " 23  obs_consequence            1245 non-null   object\n",
      "dtypes: int64(1), object(23)\n",
      "memory usage: 243.2+ KB\n"
     ]
    }
   ],
   "source": [
    "mhtech.info()\n",
    "#so far cleaning has only removed 14 rows"
   ]
  },
  {
   "cell_type": "code",
   "execution_count": 11,
   "id": "0788c961",
   "metadata": {},
   "outputs": [
    {
     "data": {
      "text/plain": [
       "array([nan, 'Yes', 'No'], dtype=object)"
      ]
     },
     "execution_count": 11,
     "metadata": {},
     "output_type": "execute_result"
    }
   ],
   "source": [
    "mhtech.self_employed.unique()\n",
    "#change nan answers to no, then drop instances where yes"
   ]
  },
  {
   "cell_type": "code",
   "execution_count": 12,
   "id": "65928df5",
   "metadata": {},
   "outputs": [],
   "source": [
    "mhtech.self_employed.fillna(value = 'No', inplace = True)"
   ]
  },
  {
   "cell_type": "code",
   "execution_count": 13,
   "id": "c274ec39",
   "metadata": {},
   "outputs": [
    {
     "data": {
      "text/plain": [
       "array(['No', 'Yes'], dtype=object)"
      ]
     },
     "execution_count": 13,
     "metadata": {},
     "output_type": "execute_result"
    }
   ],
   "source": [
    "mhtech.self_employed.unique()"
   ]
  },
  {
   "cell_type": "code",
   "execution_count": 16,
   "id": "fbffac7a",
   "metadata": {},
   "outputs": [
    {
     "name": "stderr",
     "output_type": "stream",
     "text": [
      "C:\\Users\\amass\\anaconda3\\lib\\site-packages\\seaborn\\_decorators.py:36: FutureWarning: Pass the following variable as a keyword arg: x. From version 0.12, the only valid positional argument will be `data`, and passing other arguments without an explicit keyword will result in an error or misinterpretation.\n",
      "  warnings.warn(\n"
     ]
    },
    {
     "data": {
      "image/png": "[encoded data removed]",
      "text/plain": [
       "<Figure size 864x576 with 1 Axes>"
      ]
     },
     "metadata": {
      "needs_background": "light"
     },
     "output_type": "display_data"
    }
   ],
   "source": [
    "#check distribution for number of employees prior to dropping self employed individuals\n",
    "plt.figure(figsize=(12, 8));\n",
    "sns.countplot(mhtech['no_employees'], order=mhtech['no_employees'].value_counts().index);"
   ]
  },
  {
   "cell_type": "code",
   "execution_count": 17,
   "id": "b06ce79f",
   "metadata": {},
   "outputs": [
    {
     "data": {
      "text/plain": [
       "6-25              287\n",
       "26-100            286\n",
       "More than 1000    281\n",
       "100-500           175\n",
       "1-5               155\n",
       "500-1000           59\n",
       "Name: no_employees, dtype: int64"
      ]
     },
     "execution_count": 17,
     "metadata": {},
     "output_type": "execute_result"
    }
   ],
   "source": [
    "mhtech['no_employees'].value_counts()"
   ]
  },
  {
   "cell_type": "code",
   "execution_count": 18,
   "id": "eae31aea",
   "metadata": {},
   "outputs": [],
   "source": [
    "#filter out self employed individuals\n",
    "mhtech = mhtech[mhtech.self_employed != 'Yes']"
   ]
  },
  {
   "cell_type": "code",
   "execution_count": 19,
   "id": "c3f66106",
   "metadata": {},
   "outputs": [
    {
     "name": "stderr",
     "output_type": "stream",
     "text": [
      "C:\\Users\\amass\\anaconda3\\lib\\site-packages\\seaborn\\_decorators.py:36: FutureWarning: Pass the following variable as a keyword arg: x. From version 0.12, the only valid positional argument will be `data`, and passing other arguments without an explicit keyword will result in an error or misinterpretation.\n",
      "  warnings.warn(\n"
     ]
    },
    {
     "data": {
      "image/png": "[encoded data removed]",
      "text/plain": [
       "<Figure size 864x576 with 1 Axes>"
      ]
     },
     "metadata": {
      "needs_background": "light"
     },
     "output_type": "display_data"
    }
   ],
   "source": [
    "#check distribution of number of employees after removing self employed individuals\n",
    "plt.figure(figsize=(12, 8));\n",
    "sns.countplot(mhtech['no_employees'], order=mhtech['no_employees'].value_counts().index);"
   ]
  },
  {
   "cell_type": "code",
   "execution_count": 20,
   "id": "7c4e0a4b",
   "metadata": {},
   "outputs": [
    {
     "data": {
      "text/plain": [
       "26-100            278\n",
       "More than 1000    277\n",
       "6-25              256\n",
       "100-500           170\n",
       "1-5                62\n",
       "500-1000           59\n",
       "Name: no_employees, dtype: int64"
      ]
     },
     "execution_count": 20,
     "metadata": {},
     "output_type": "execute_result"
    }
   ],
   "source": [
    "mhtech['no_employees'].value_counts()"
   ]
  },
  {
   "cell_type": "code",
   "execution_count": 21,
   "id": "3d0fbabb",
   "metadata": {},
   "outputs": [],
   "source": [
    "#removing self employed did not remove all 1-5 instances. We will drop them now\n",
    "mhtech = mhtech[mhtech.no_employees != '1-5']"
   ]
  },
  {
   "cell_type": "code",
   "execution_count": 22,
   "id": "248f45a7",
   "metadata": {},
   "outputs": [],
   "source": [
    "#dropping self employed column as we have no more need for it\n",
    "mhtech.drop('self_employed', axis = 1, inplace = True)"
   ]
  },
  {
   "cell_type": "code",
   "execution_count": 24,
   "id": "df08ce01",
   "metadata": {},
   "outputs": [],
   "source": [
    "#We only need individuals who work in tech so filter for tech = yes, then remove tech_company column\n",
    "mhtech = mhtech[mhtech.tech_company != 'No']\n",
    "mhtech.drop('tech_company', axis = 1, inplace = True)"
   ]
  },
  {
   "cell_type": "code",
   "execution_count": 26,
   "id": "3a9a9da5",
   "metadata": {},
   "outputs": [],
   "source": [
    "#work_interfere has alot of nan values, this is most likely because the question isnt applicable to individuals without\n",
    "#mental health issues. \n",
    "#I will replace nan values with a value: not applicable so there arent missing values\n",
    "\n",
    "mhtech.work_interfere.fillna(value = 'NotApplicable', inplace = True)"
   ]
  },
  {
   "cell_type": "code",
   "execution_count": 27,
   "id": "4fdae5cd",
   "metadata": {},
   "outputs": [
    {
     "data": {
      "text/plain": [
       "array(['Often', 'Rarely', 'Never', 'Sometimes', 'NotApplicable'],\n",
       "      dtype=object)"
      ]
     },
     "execution_count": 27,
     "metadata": {},
     "output_type": "execute_result"
    }
   ],
   "source": [
    "mhtech.work_interfere.unique()"
   ]
  },
  {
   "cell_type": "code",
   "execution_count": 28,
   "id": "ec5e7192",
   "metadata": {},
   "outputs": [
    {
     "name": "stdout",
     "output_type": "stream",
     "text": [
      "<class 'pandas.core.frame.DataFrame'>\n",
      "Int64Index: 833 entries, 0 to 1257\n",
      "Data columns (total 22 columns):\n",
      " #   Column                     Non-Null Count  Dtype \n",
      "---  ------                     --------------  ----- \n",
      " 0   Age                        833 non-null    int64 \n",
      " 1   Gender                     833 non-null    object\n",
      " 2   Country                    833 non-null    object\n",
      " 3   family_history             833 non-null    object\n",
      " 4   treatment                  833 non-null    object\n",
      " 5   work_interfere             833 non-null    object\n",
      " 6   no_employees               833 non-null    object\n",
      " 7   remote_work                833 non-null    object\n",
      " 8   benefits                   833 non-null    object\n",
      " 9   care_options               833 non-null    object\n",
      " 10  wellness_program           833 non-null    object\n",
      " 11  seek_help                  833 non-null    object\n",
      " 12  anonymity                  833 non-null    object\n",
      " 13  leave                      833 non-null    object\n",
      " 14  mental_health_consequence  833 non-null    object\n",
      " 15  phys_health_consequence    833 non-null    object\n",
      " 16  coworkers                  833 non-null    object\n",
      " 17  supervisor                 833 non-null    object\n",
      " 18  mental_health_interview    833 non-null    object\n",
      " 19  phys_health_interview      833 non-null    object\n",
      " 20  mental_vs_physical         833 non-null    object\n",
      " 21  obs_consequence            833 non-null    object\n",
      "dtypes: int64(1), object(21)\n",
      "memory usage: 149.7+ KB\n"
     ]
    }
   ],
   "source": [
    "mhtech.info()"
   ]
  },
  {
   "cell_type": "code",
   "execution_count": 29,
   "id": "be41012f",
   "metadata": {},
   "outputs": [],
   "source": [
    "#data cleaning removed 426 instances"
   ]
  },
  {
   "cell_type": "code",
   "execution_count": 30,
   "id": "c04887e5",
   "metadata": {},
   "outputs": [],
   "source": [
    "#save data\n",
    "mhtech.to_csv('mhtech.csv', index = False)"
   ]
  }
 ],
 "metadata": {
  "kernelspec": {
   "display_name": "Python 3 (ipykernel)",
   "language": "python",
   "name": "python3"
  },
  "language_info": {
   "codemirror_mode": {
    "name": "ipython",
    "version": 3
   },
   "file_extension": ".py",
   "mimetype": "text/x-python",
   "name": "python",
   "nbconvert_exporter": "python",
   "pygments_lexer": "ipython3",
   "version": "3.9.7"
  }
 },
 "nbformat": 4,
 "nbformat_minor": 5
}
